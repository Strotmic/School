{
 "cells": [
  {
   "cell_type": "markdown",
   "id": "1e3805de",
   "metadata": {},
   "source": [
    "# <span style=\"color:darkorange\"> Stationaire tijdsreeksen demo"
   ]
  },
  {
   "cell_type": "code",
   "execution_count": 1,
   "id": "9735563a",
   "metadata": {},
   "outputs": [],
   "source": [
    "import pandas as pd\n",
    "import matplotlib.pyplot as plt\n",
    "import seaborn as sns\n",
    "from statsmodels.graphics.tsaplots import plot_acf\n",
    "%matplotlib inline\n",
    "plt.style.use('seaborn')\n",
    "import numpy as np"
   ]
  },
  {
   "cell_type": "markdown",
   "id": "8dbd9cfb",
   "metadata": {},
   "source": [
    "We gaan starten met het inlezen van het bestand: `bezoekers.csv` maar we gaan de kolom Tijdstip gebruiken als de index van de dataframe."
   ]
  },
  {
   "cell_type": "code",
   "execution_count": null,
   "id": "bfd24bde",
   "metadata": {},
   "outputs": [],
   "source": []
  },
  {
   "cell_type": "markdown",
   "id": "0fe0257e",
   "metadata": {},
   "source": [
    "## <span style=\"color:deeppink\"> Stationair? </span>\n",
    "Plot het aantal bezoekers en ga na of de dataset stationair is."
   ]
  },
  {
   "cell_type": "code",
   "execution_count": null,
   "id": "225f2409",
   "metadata": {},
   "outputs": [],
   "source": []
  },
  {
   "cell_type": "code",
   "execution_count": null,
   "id": "9c897dae",
   "metadata": {},
   "outputs": [],
   "source": []
  },
  {
   "cell_type": "code",
   "execution_count": null,
   "id": "74a2bb4d",
   "metadata": {},
   "outputs": [],
   "source": []
  },
  {
   "cell_type": "markdown",
   "id": "f860e82b",
   "metadata": {},
   "source": [
    "## <span style=\"color:deeppink\"> Autocorrelatie </span>"
   ]
  },
  {
   "cell_type": "code",
   "execution_count": null,
   "id": "27b7a2a1",
   "metadata": {},
   "outputs": [],
   "source": []
  },
  {
   "cell_type": "markdown",
   "id": "a07d436f",
   "metadata": {},
   "source": [
    "## <span style=\"color:deeppink\"> Moving average </span>\n",
    "Bereken de 3-punts moving average aan de hand van de functies:  \n",
    "`rolling`:  \n",
    "https://pandas.pydata.org/pandas-docs/stable/reference/api/pandas.Series.rolling.html  \n",
    "deze functie zorgt voor een sliding window over je kolom. => Hier pas je dan de gewenste statistische functie op toe  \n",
    "En de functie   \n",
    "    `shift`: https://pandas.pydata.org/docs/reference/api/pandas.DataFrame.shift.html  \n",
    "zorg je ervoor dat alle waarden een rij naar beneden schuiven."
   ]
  },
  {
   "cell_type": "code",
   "execution_count": null,
   "id": "0f34cafe",
   "metadata": {},
   "outputs": [],
   "source": []
  },
  {
   "cell_type": "code",
   "execution_count": null,
   "id": "7c402a26",
   "metadata": {},
   "outputs": [],
   "source": []
  },
  {
   "cell_type": "markdown",
   "id": "1f394f26",
   "metadata": {},
   "source": [
    "## <span style=\"color:deeppink\"> Mean absolute error\n",
    "Bereken de absolute error van de 3-punts moving average:"
   ]
  },
  {
   "cell_type": "code",
   "execution_count": null,
   "id": "61c9bd2b",
   "metadata": {},
   "outputs": [],
   "source": []
  },
  {
   "cell_type": "markdown",
   "id": "9cd526f5",
   "metadata": {},
   "source": [
    "## <span style=\"color:deeppink\"> Mean absolute percentage error"
   ]
  },
  {
   "cell_type": "code",
   "execution_count": null,
   "id": "c8408577",
   "metadata": {},
   "outputs": [],
   "source": []
  },
  {
   "cell_type": "markdown",
   "id": "7f99a82f",
   "metadata": {},
   "source": [
    "## <span style=\"color:deeppink\"> Exponentiele demping:\n",
    "Gebruik de functie `emw` om exponentiele demping toe te passen:  \n",
    "    https://pandas.pydata.org/pandas-docs/stable/reference/api/pandas.Series.ewm.html"
   ]
  },
  {
   "cell_type": "code",
   "execution_count": null,
   "id": "f67279c3",
   "metadata": {},
   "outputs": [],
   "source": []
  },
  {
   "cell_type": "code",
   "execution_count": null,
   "id": "a293e6bc",
   "metadata": {},
   "outputs": [],
   "source": []
  },
  {
   "cell_type": "code",
   "execution_count": null,
   "id": "cafd7124",
   "metadata": {},
   "outputs": [],
   "source": []
  },
  {
   "cell_type": "markdown",
   "id": "1485e5b7",
   "metadata": {},
   "source": [
    "## <span style=\"color:deeppink\"> Zoek de optimale alpha"
   ]
  },
  {
   "cell_type": "code",
   "execution_count": null,
   "id": "36c8a744",
   "metadata": {},
   "outputs": [],
   "source": []
  },
  {
   "cell_type": "code",
   "execution_count": null,
   "id": "de8de9a3",
   "metadata": {},
   "outputs": [],
   "source": []
  },
  {
   "cell_type": "code",
   "execution_count": null,
   "id": "a7a868d5",
   "metadata": {},
   "outputs": [],
   "source": []
  },
  {
   "cell_type": "code",
   "execution_count": null,
   "id": "f98d6f38",
   "metadata": {},
   "outputs": [],
   "source": []
  },
  {
   "cell_type": "code",
   "execution_count": null,
   "id": "4d47cece",
   "metadata": {},
   "outputs": [],
   "source": []
  }
 ],
 "metadata": {
  "kernelspec": {
   "display_name": "Python 3",
   "language": "python",
   "name": "python3"
  },
  "language_info": {
   "codemirror_mode": {
    "name": "ipython",
    "version": 3
   },
   "file_extension": ".py",
   "mimetype": "text/x-python",
   "name": "python",
   "nbconvert_exporter": "python",
   "pygments_lexer": "ipython3",
   "version": "3.8.8"
  }
 },
 "nbformat": 4,
 "nbformat_minor": 5
}
