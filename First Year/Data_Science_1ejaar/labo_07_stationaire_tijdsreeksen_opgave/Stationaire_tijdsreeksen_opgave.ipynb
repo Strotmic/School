{
 "cells": [
  {
   "cell_type": "markdown",
   "id": "7ba8193d",
   "metadata": {},
   "source": [
    "# <span style=\"color:darkorange\"> Stationaire tijdsreeksen opdracht opgave"
   ]
  },
  {
   "cell_type": "code",
   "execution_count": 1,
   "id": "395499b9",
   "metadata": {},
   "outputs": [],
   "source": [
    "import pandas as pd\n",
    "import matplotlib.pyplot as plt\n",
    "import seaborn as sns\n",
    "from statsmodels.graphics.tsaplots import plot_acf\n",
    "%matplotlib inline\n",
    "plt.style.use('seaborn')\n",
    "import numpy as np\n",
    "sns.set_style(\"darkgrid\")"
   ]
  },
  {
   "cell_type": "markdown",
   "id": "fbcc4810",
   "metadata": {},
   "source": [
    "## <span style=\"color:deeppink\"> Vraag 1 - ziektegevallen </span>"
   ]
  },
  {
   "cell_type": "markdown",
   "id": "bf6d873a",
   "metadata": {},
   "source": [
    "Lees het bestand `zieken.csv` in, gebruik de eerste kolom als index"
   ]
  },
  {
   "cell_type": "code",
   "execution_count": null,
   "id": "e9a351aa",
   "metadata": {},
   "outputs": [],
   "source": []
  },
  {
   "cell_type": "markdown",
   "id": "5dc93493",
   "metadata": {},
   "source": [
    "Stel de data voor met een passende grafiek die duidelijk het verloop van het aantal zieken per dag weergeeft.  "
   ]
  },
  {
   "cell_type": "code",
   "execution_count": null,
   "id": "8619317b",
   "metadata": {
    "scrolled": true
   },
   "outputs": [],
   "source": []
  },
  {
   "cell_type": "markdown",
   "id": "f62180fd",
   "metadata": {},
   "source": [
    "Ga na via de trendlijn of er al dan niet sprake is van een stationaire tijdreeks."
   ]
  },
  {
   "cell_type": "code",
   "execution_count": null,
   "id": "fcdb38f1",
   "metadata": {},
   "outputs": [],
   "source": []
  },
  {
   "cell_type": "markdown",
   "id": "6503f286",
   "metadata": {},
   "source": [
    "Gebruik autocorrelatie om patronen te detecteren. Is er periodiciteit? Met andere woorden zijn er patronen die zich constant herhalen? Zo ja, hoe lang duurt zo een patroon?"
   ]
  },
  {
   "cell_type": "code",
   "execution_count": null,
   "id": "1efb82fb",
   "metadata": {},
   "outputs": [],
   "source": []
  },
  {
   "cell_type": "markdown",
   "id": "4d717d83",
   "metadata": {},
   "source": [
    "Vergelijk onderstaande voorspellingsmethodes in termen van de MAE (Mean Absolute Error) en de MAPE (Mean Absolute Percentage Error).\n",
    "- Voorspelde waarde is de huidige waarde\n",
    "- Voorspelde waarde is het 3 punts moving average\n",
    "- Voorspelde waarde is het 5 punts moving average\n",
    "- Voorspelde waarde is het 10 punts moving average\n",
    "- Voorspelde waarde via exponentiële demping, zoek de optimale alpha.\n"
   ]
  },
  {
   "cell_type": "code",
   "execution_count": null,
   "id": "191681ca",
   "metadata": {},
   "outputs": [],
   "source": []
  },
  {
   "cell_type": "markdown",
   "id": "037d90ba",
   "metadata": {},
   "source": [
    "Visualiseer de geteste methodes samen met het aantal zieken in 1 grafiek."
   ]
  },
  {
   "cell_type": "code",
   "execution_count": null,
   "id": "262e17f2",
   "metadata": {},
   "outputs": [],
   "source": []
  },
  {
   "cell_type": "markdown",
   "id": "7ec11978",
   "metadata": {},
   "source": [
    "Welke methode geniet jouw voorkeur om mee te voorspellen? Argumenteer waarom."
   ]
  },
  {
   "cell_type": "code",
   "execution_count": null,
   "id": "3e68c2f4",
   "metadata": {},
   "outputs": [],
   "source": []
  },
  {
   "cell_type": "markdown",
   "id": "912d00b1",
   "metadata": {},
   "source": [
    "## <span style=\"color:deeppink\"> Vraag 2 - Zonnepanelen </span>"
   ]
  },
  {
   "cell_type": "markdown",
   "id": "3c14d2fd",
   "metadata": {},
   "source": [
    "Lees het bestand `zonnepanelen.csv` in, gebruik de eerste kolom als index"
   ]
  },
  {
   "cell_type": "code",
   "execution_count": null,
   "id": "436fafe3",
   "metadata": {
    "scrolled": true
   },
   "outputs": [],
   "source": []
  },
  {
   "cell_type": "markdown",
   "id": "940fec4d",
   "metadata": {},
   "source": [
    "Stel de data voor met een passende grafiek die duidelijk het verloop van de hoeveelheid elektriciteit opgewekt en verbruikt weergeeft."
   ]
  },
  {
   "cell_type": "code",
   "execution_count": null,
   "id": "0d6712d5",
   "metadata": {
    "scrolled": true
   },
   "outputs": [],
   "source": []
  },
  {
   "cell_type": "markdown",
   "id": "9db4829d",
   "metadata": {},
   "source": [
    "Ga na via de trendlijn of er al dan niet sprake is van een stationaire tijdreeks"
   ]
  },
  {
   "cell_type": "code",
   "execution_count": null,
   "id": "d605f780",
   "metadata": {},
   "outputs": [],
   "source": []
  },
  {
   "cell_type": "markdown",
   "id": "5f379807",
   "metadata": {},
   "source": [
    "Gebruik autocorrelatie om patronen te detecteren. Is er periodiciteit? Met andere woorden zijn er patronen die zich constant herhalen? Zo ja, hoelang duurt zo een patroon(ongeveer)?"
   ]
  },
  {
   "cell_type": "code",
   "execution_count": null,
   "id": "d34b8c71",
   "metadata": {},
   "outputs": [],
   "source": []
  },
  {
   "cell_type": "markdown",
   "id": "75823aa6",
   "metadata": {},
   "source": [
    "Vergelijk onderstaande voorspellingsmethodes in termen van de MAE (Mean Absolute Error).\n",
    "- Voorspelde waarde is de huidige waarde\n",
    "- Voorspelde waarde is het 10 punts moving average\n",
    "- Voorspelde waarde is het 20 punts moving average\n",
    "- Voorspelde waarde is het 50 punts moving average\n",
    "- Voorspelde waarde via exponentiële demping, zoek de optimale alpha."
   ]
  },
  {
   "cell_type": "code",
   "execution_count": null,
   "id": "7550fcda",
   "metadata": {},
   "outputs": [],
   "source": []
  },
  {
   "cell_type": "markdown",
   "id": "362d57cd",
   "metadata": {},
   "source": [
    "Visualiseer de geteste methodes samen met het verbruik in 1 grafiek"
   ]
  },
  {
   "cell_type": "code",
   "execution_count": null,
   "id": "ea922fda",
   "metadata": {
    "scrolled": true
   },
   "outputs": [],
   "source": []
  },
  {
   "cell_type": "markdown",
   "id": "eb180c7c",
   "metadata": {},
   "source": [
    "Welke methode geniet jouw voorkeur om mee te voorspellen? Argumenteer waarom."
   ]
  },
  {
   "cell_type": "code",
   "execution_count": null,
   "id": "4041bb97",
   "metadata": {},
   "outputs": [],
   "source": []
  },
  {
   "cell_type": "markdown",
   "id": "16308a7a",
   "metadata": {},
   "source": [
    "## <span style=\"color:deeppink\"> Vraag 3 - Temperatuur in Barcelona </span>"
   ]
  },
  {
   "cell_type": "markdown",
   "id": "39ea2e84",
   "metadata": {},
   "source": [
    "Lees het bestand `yearly_average_temperature_barcelona.csv` in, gebruik de eerste kolom als index"
   ]
  },
  {
   "cell_type": "code",
   "execution_count": null,
   "id": "8e9ae67a",
   "metadata": {
    "scrolled": true
   },
   "outputs": [],
   "source": []
  },
  {
   "cell_type": "markdown",
   "id": "c0dd5bd6",
   "metadata": {},
   "source": [
    "Ga na via de trendlijn of er al dan niet sprake is van een stationaire tijdreeks."
   ]
  },
  {
   "cell_type": "code",
   "execution_count": null,
   "id": "41103518",
   "metadata": {
    "scrolled": true
   },
   "outputs": [],
   "source": []
  },
  {
   "cell_type": "code",
   "execution_count": null,
   "id": "69674935",
   "metadata": {},
   "outputs": [],
   "source": []
  },
  {
   "cell_type": "markdown",
   "id": "05ed5511",
   "metadata": {},
   "source": [
    "Gebruik autocorrelatie om patronen te detecteren. Is er periodiciteit? Met andere woorden zijn er patronen die zich constant herhalen? Zo ja, hoelang duurt zo een patroon(ongeveer)?"
   ]
  },
  {
   "cell_type": "code",
   "execution_count": null,
   "id": "a2809916",
   "metadata": {},
   "outputs": [],
   "source": []
  },
  {
   "cell_type": "markdown",
   "id": "7c142af5",
   "metadata": {},
   "source": [
    "Zoek een optimale techniek voor het voorspellen van de volgende sample. Je kan kiezen uit alle technieken die tot nu toe aan bod zijn gekomen:\n",
    "- Volgende sample is huidige sample\n",
    "- Moving average met verschillende groottes \n",
    "- Exponentiële demping. Zorg dat je de factor alfa kan aanpassen.\n"
   ]
  },
  {
   "cell_type": "code",
   "execution_count": null,
   "id": "899321e1",
   "metadata": {},
   "outputs": [],
   "source": []
  },
  {
   "cell_type": "markdown",
   "id": "5476b3db",
   "metadata": {},
   "source": [
    "Visualiseer de gebruikte voorspellingstechnieken in een plot"
   ]
  },
  {
   "cell_type": "code",
   "execution_count": null,
   "id": "34b42e1a",
   "metadata": {},
   "outputs": [],
   "source": []
  },
  {
   "cell_type": "markdown",
   "id": "3b11ae17",
   "metadata": {},
   "source": [
    "Welke methode geniet jouw voorkeur om mee te voorspellen? Argumenteer waarom."
   ]
  },
  {
   "cell_type": "code",
   "execution_count": null,
   "id": "b29a0909",
   "metadata": {},
   "outputs": [],
   "source": []
  }
 ],
 "metadata": {
  "kernelspec": {
   "display_name": "Python 3",
   "language": "python",
   "name": "python3"
  },
  "language_info": {
   "codemirror_mode": {
    "name": "ipython",
    "version": 3
   },
   "file_extension": ".py",
   "mimetype": "text/x-python",
   "name": "python",
   "nbconvert_exporter": "python",
   "pygments_lexer": "ipython3",
   "version": "3.8.8"
  }
 },
 "nbformat": 4,
 "nbformat_minor": 5
}
