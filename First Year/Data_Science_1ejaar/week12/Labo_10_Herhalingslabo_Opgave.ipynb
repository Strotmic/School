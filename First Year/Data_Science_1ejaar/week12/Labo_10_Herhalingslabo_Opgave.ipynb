{
 "cells": [
  {
   "cell_type": "markdown",
   "metadata": {},
   "source": [
    "# <span style=\"color:purple\"> Labo 11 - Herhalingslabo"
   ]
  },
  {
   "cell_type": "code",
   "execution_count": 1,
   "metadata": {},
   "outputs": [],
   "source": [
    "%matplotlib inline\n",
    "import matplotlib.pyplot as plt\n",
    "import pandas as pd\n",
    "import numpy as np\n",
    "import seaborn as sns\n",
    "from scipy import stats\n",
    "from sklearn import datasets, linear_model\n",
    "\n",
    "\n",
    "pd.set_option('display.max_columns', 500)"
   ]
  },
  {
   "cell_type": "markdown",
   "metadata": {},
   "source": [
    " ## <span style=\"color:darkorange\"> Discrete kansverdelingen"
   ]
  },
  {
   "cell_type": "markdown",
   "metadata": {},
   "source": [
    "Het aantal fouten in een galsvezelkabel volgt een Poisson kansverdeling. Veronderstel dat het gemiddeld aantal fouten in 50 meter kabel 1,2 bedraagt."
   ]
  },
  {
   "cell_type": "markdown",
   "metadata": {},
   "source": [
    "a. Wat is de kans dat er exact 3 fouten in 150 meter glasvezelkabel zitten? "
   ]
  },
  {
   "cell_type": "code",
   "execution_count": 2,
   "metadata": {},
   "outputs": [
    {
     "data": {
      "text/plain": [
       "0.21246926575014694"
      ]
     },
     "execution_count": 2,
     "metadata": {},
     "output_type": "execute_result"
    }
   ],
   "source": [
    "stats.poisson.pmf(3,3.6)"
   ]
  },
  {
   "cell_type": "markdown",
   "metadata": {},
   "source": [
    "b. Wat is de kans dat er minstens twee fouten in 100 meter galsvezelkabel zitten?"
   ]
  },
  {
   "cell_type": "code",
   "execution_count": 3,
   "metadata": {},
   "outputs": [
    {
     "data": {
      "text/plain": [
       "0.4302912533424894"
      ]
     },
     "execution_count": 3,
     "metadata": {},
     "output_type": "execute_result"
    }
   ],
   "source": [
    "1-stats.poisson.cdf(2,2.4)"
   ]
  },
  {
   "cell_type": "markdown",
   "metadata": {},
   "source": [
    "c. Wat is de kans dat er in 200 meter kabel minder dan 2 fouten zitten?"
   ]
  },
  {
   "cell_type": "code",
   "execution_count": 4,
   "metadata": {},
   "outputs": [
    {
     "data": {
      "text/plain": [
       "0.04773253288431617"
      ]
     },
     "execution_count": 4,
     "metadata": {},
     "output_type": "execute_result"
    }
   ],
   "source": [
    "stats.poisson.cdf(1,4.8)"
   ]
  },
  {
   "cell_type": "markdown",
   "metadata": {},
   "source": [
    "d. Een glasvezelkabel is 100 meter lang. Wat is de kans dat er in de eerste 50 meter exact 1 fout zit en exact 1 fout in de tweede 50 meter?"
   ]
  },
  {
   "cell_type": "code",
   "execution_count": 5,
   "metadata": {},
   "outputs": [
    {
     "data": {
      "text/plain": [
       "0.13063385273675404"
      ]
     },
     "execution_count": 5,
     "metadata": {},
     "output_type": "execute_result"
    }
   ],
   "source": [
    "g=stats.poisson.pmf(1,1.2)\n",
    "answer =g*g\n",
    "answer"
   ]
  },
  {
   "cell_type": "markdown",
   "metadata": {},
   "source": [
    "De bus van 8u30 is 30% van de keren te laat. Beantwoord onderstaande vragen"
   ]
  },
  {
   "cell_type": "markdown",
   "metadata": {},
   "source": [
    "a. Wat is de kans dat de bus de volgende week (= 7 dagen) nooit te laat zal zijn? Welke kansverdeling zal je hiervoor hanteren?"
   ]
  },
  {
   "cell_type": "code",
   "execution_count": 6,
   "metadata": {},
   "outputs": [
    {
     "data": {
      "text/plain": [
       "0.08235429999999996"
      ]
     },
     "execution_count": 6,
     "metadata": {},
     "output_type": "execute_result"
    }
   ],
   "source": [
    "stats.binom.pmf(0,7,0.3)\n"
   ]
  },
  {
   "cell_type": "markdown",
   "metadata": {},
   "source": [
    "b. Wat is de kans dat de bus meer dan 4 van de zeven dagen te laat zal  zijn?"
   ]
  },
  {
   "cell_type": "code",
   "execution_count": 7,
   "metadata": {},
   "outputs": [
    {
     "data": {
      "text/plain": [
       "0.02879549999999999"
      ]
     },
     "execution_count": 7,
     "metadata": {},
     "output_type": "execute_result"
    }
   ],
   "source": [
    "stats.binom.sf(4,7,0.3)"
   ]
  },
  {
   "cell_type": "markdown",
   "metadata": {},
   "source": [
    "c. Wat is de kans dat de komende maand (= 30 dagen) de bus exact 10 dagen te laat zal zijn? "
   ]
  },
  {
   "cell_type": "code",
   "execution_count": 8,
   "metadata": {},
   "outputs": [
    {
     "data": {
      "text/plain": [
       "0.14156170106200108"
      ]
     },
     "execution_count": 8,
     "metadata": {},
     "output_type": "execute_result"
    }
   ],
   "source": [
    "stats.binom.pmf(10,30,0.3)"
   ]
  },
  {
   "cell_type": "markdown",
   "metadata": {},
   "source": [
    "d. Wat is de kans dat de komende maand de bus minder dan 7 dagen te laat zal zijn? "
   ]
  },
  {
   "cell_type": "code",
   "execution_count": 9,
   "metadata": {},
   "outputs": [
    {
     "data": {
      "text/plain": [
       "0.15952298219587446"
      ]
     },
     "execution_count": 9,
     "metadata": {},
     "output_type": "execute_result"
    }
   ],
   "source": [
    "stats.binom.cdf(6,30,0.3)"
   ]
  },
  {
   "cell_type": "markdown",
   "metadata": {},
   "source": [
    "Bepaal het aantal dagen per maand waarvoor er minder dan 10 procent kans bestaat dat de bus er meer dan dit aantal te laat zal zijn."
   ]
  },
  {
   "cell_type": "code",
   "execution_count": 10,
   "metadata": {},
   "outputs": [
    {
     "data": {
      "text/plain": [
       "12.0"
      ]
     },
     "execution_count": 10,
     "metadata": {},
     "output_type": "execute_result"
    }
   ],
   "source": [
    "stats.binom.ppf(0.9,30,0.3)"
   ]
  },
  {
   "cell_type": "markdown",
   "metadata": {},
   "source": [
    " ## <span style=\"color:darkorange\"> Normaalverdeling"
   ]
  },
  {
   "cell_type": "markdown",
   "metadata": {},
   "source": [
    "De levensduur van een toestel is normaal verdeeld met een gemiddelde van 12 maanden en een standaardafwijking van 2 maanden. "
   ]
  },
  {
   "cell_type": "markdown",
   "metadata": {},
   "source": [
    "a. Bepaal de kans dat het toestel binnen de 7 maanden stuk gaat. "
   ]
  },
  {
   "cell_type": "code",
   "execution_count": 11,
   "metadata": {},
   "outputs": [
    {
     "data": {
      "text/plain": [
       "0.006209665325776132"
      ]
     },
     "execution_count": 11,
     "metadata": {},
     "output_type": "execute_result"
    }
   ],
   "source": [
    "stats.norm.cdf(7,12,2)"
   ]
  },
  {
   "cell_type": "markdown",
   "metadata": {},
   "source": [
    "b. Bepaal de kans dat het toestel langer dan 15 maanden meegaat."
   ]
  },
  {
   "cell_type": "code",
   "execution_count": 12,
   "metadata": {},
   "outputs": [
    {
     "data": {
      "text/plain": [
       "0.06680720126885807"
      ]
     },
     "execution_count": 12,
     "metadata": {},
     "output_type": "execute_result"
    }
   ],
   "source": [
    "stats.norm.sf(15,12,2)"
   ]
  },
  {
   "cell_type": "markdown",
   "metadata": {},
   "source": [
    "c. Bepaal de kans dat het toestel tijdens de 10de maand stuk gaat."
   ]
  },
  {
   "cell_type": "code",
   "execution_count": 13,
   "metadata": {},
   "outputs": [
    {
     "data": {
      "text/plain": [
       "0.12098536225957168"
      ]
     },
     "execution_count": 13,
     "metadata": {},
     "output_type": "execute_result"
    }
   ],
   "source": [
    "stats.norm.pdf(10,12,2)"
   ]
  },
  {
   "cell_type": "markdown",
   "metadata": {},
   "source": [
    "d. Binnen hoeveel tijd gaan de 10% minst duurzame toestellen stuk?"
   ]
  },
  {
   "cell_type": "code",
   "execution_count": 14,
   "metadata": {},
   "outputs": [
    {
     "data": {
      "text/plain": [
       "9.4368968689108"
      ]
     },
     "execution_count": 14,
     "metadata": {},
     "output_type": "execute_result"
    }
   ],
   "source": [
    "stats.norm.isf(0.90,12,2)"
   ]
  },
  {
   "cell_type": "markdown",
   "metadata": {},
   "source": [
    " ## <span style=\"color:darkorange\"> Data cleaning en regressie"
   ]
  },
  {
   "cell_type": "markdown",
   "metadata": {},
   "source": [
    "De dataset autos.csv bevat gegevens gegevens van tweedehands auto's die op Ebay worden verkocht.\n",
    "Werk onderstaande vragen uit."
   ]
  },
  {
   "cell_type": "code",
   "execution_count": 15,
   "metadata": {},
   "outputs": [
    {
     "data": {
      "text/html": [
       "<div>\n",
       "<style scoped>\n",
       "    .dataframe tbody tr th:only-of-type {\n",
       "        vertical-align: middle;\n",
       "    }\n",
       "\n",
       "    .dataframe tbody tr th {\n",
       "        vertical-align: top;\n",
       "    }\n",
       "\n",
       "    .dataframe thead th {\n",
       "        text-align: right;\n",
       "    }\n",
       "</style>\n",
       "<table border=\"1\" class=\"dataframe\">\n",
       "  <thead>\n",
       "    <tr style=\"text-align: right;\">\n",
       "      <th></th>\n",
       "      <th>dateCrawled</th>\n",
       "      <th>name</th>\n",
       "      <th>seller</th>\n",
       "      <th>offerType</th>\n",
       "      <th>price</th>\n",
       "      <th>abtest</th>\n",
       "      <th>vehicleType</th>\n",
       "      <th>yearOfRegistration</th>\n",
       "      <th>gearbox</th>\n",
       "      <th>powerPS</th>\n",
       "      <th>model</th>\n",
       "      <th>kilometer</th>\n",
       "      <th>monthOfRegistration</th>\n",
       "      <th>fuelType</th>\n",
       "      <th>brand</th>\n",
       "      <th>notRepairedDamage</th>\n",
       "      <th>dateCreated</th>\n",
       "      <th>nrOfPictures</th>\n",
       "      <th>postalCode</th>\n",
       "      <th>lastSeen</th>\n",
       "    </tr>\n",
       "  </thead>\n",
       "  <tbody>\n",
       "    <tr>\n",
       "      <th>0</th>\n",
       "      <td>2016-03-24 11:52:17</td>\n",
       "      <td>Golf_3_1.6</td>\n",
       "      <td>privat</td>\n",
       "      <td>Angebot</td>\n",
       "      <td>480</td>\n",
       "      <td>test</td>\n",
       "      <td>NaN</td>\n",
       "      <td>1993</td>\n",
       "      <td>manuell</td>\n",
       "      <td>0</td>\n",
       "      <td>golf</td>\n",
       "      <td>150000</td>\n",
       "      <td>0</td>\n",
       "      <td>benzin</td>\n",
       "      <td>volkswagen</td>\n",
       "      <td>NaN</td>\n",
       "      <td>2016-03-24 00:00:00</td>\n",
       "      <td>0</td>\n",
       "      <td>70435</td>\n",
       "      <td>2016-04-07 03:16:57</td>\n",
       "    </tr>\n",
       "    <tr>\n",
       "      <th>1</th>\n",
       "      <td>2016-03-24 10:58:45</td>\n",
       "      <td>A5_Sportback_2.7_Tdi</td>\n",
       "      <td>privat</td>\n",
       "      <td>Angebot</td>\n",
       "      <td>18300</td>\n",
       "      <td>test</td>\n",
       "      <td>coupe</td>\n",
       "      <td>2011</td>\n",
       "      <td>manuell</td>\n",
       "      <td>190</td>\n",
       "      <td>NaN</td>\n",
       "      <td>125000</td>\n",
       "      <td>5</td>\n",
       "      <td>diesel</td>\n",
       "      <td>audi</td>\n",
       "      <td>ja</td>\n",
       "      <td>2016-03-24 00:00:00</td>\n",
       "      <td>0</td>\n",
       "      <td>66954</td>\n",
       "      <td>2016-04-07 01:46:50</td>\n",
       "    </tr>\n",
       "    <tr>\n",
       "      <th>2</th>\n",
       "      <td>2016-03-14 12:52:21</td>\n",
       "      <td>Jeep_Grand_Cherokee_\"Overland\"</td>\n",
       "      <td>privat</td>\n",
       "      <td>Angebot</td>\n",
       "      <td>9800</td>\n",
       "      <td>test</td>\n",
       "      <td>suv</td>\n",
       "      <td>2004</td>\n",
       "      <td>automatik</td>\n",
       "      <td>163</td>\n",
       "      <td>grand</td>\n",
       "      <td>125000</td>\n",
       "      <td>8</td>\n",
       "      <td>diesel</td>\n",
       "      <td>jeep</td>\n",
       "      <td>NaN</td>\n",
       "      <td>2016-03-14 00:00:00</td>\n",
       "      <td>0</td>\n",
       "      <td>90480</td>\n",
       "      <td>2016-04-05 12:47:46</td>\n",
       "    </tr>\n",
       "    <tr>\n",
       "      <th>3</th>\n",
       "      <td>2016-03-17 16:54:04</td>\n",
       "      <td>GOLF_4_1_4__3TÜRER</td>\n",
       "      <td>privat</td>\n",
       "      <td>Angebot</td>\n",
       "      <td>1500</td>\n",
       "      <td>test</td>\n",
       "      <td>kleinwagen</td>\n",
       "      <td>2001</td>\n",
       "      <td>manuell</td>\n",
       "      <td>75</td>\n",
       "      <td>golf</td>\n",
       "      <td>150000</td>\n",
       "      <td>6</td>\n",
       "      <td>benzin</td>\n",
       "      <td>volkswagen</td>\n",
       "      <td>nein</td>\n",
       "      <td>2016-03-17 00:00:00</td>\n",
       "      <td>0</td>\n",
       "      <td>91074</td>\n",
       "      <td>2016-03-17 17:40:17</td>\n",
       "    </tr>\n",
       "    <tr>\n",
       "      <th>4</th>\n",
       "      <td>2016-03-31 17:25:20</td>\n",
       "      <td>Skoda_Fabia_1.4_TDI_PD_Classic</td>\n",
       "      <td>privat</td>\n",
       "      <td>Angebot</td>\n",
       "      <td>3600</td>\n",
       "      <td>test</td>\n",
       "      <td>kleinwagen</td>\n",
       "      <td>2008</td>\n",
       "      <td>manuell</td>\n",
       "      <td>69</td>\n",
       "      <td>fabia</td>\n",
       "      <td>90000</td>\n",
       "      <td>7</td>\n",
       "      <td>diesel</td>\n",
       "      <td>skoda</td>\n",
       "      <td>nein</td>\n",
       "      <td>2016-03-31 00:00:00</td>\n",
       "      <td>0</td>\n",
       "      <td>60437</td>\n",
       "      <td>2016-04-06 10:17:21</td>\n",
       "    </tr>\n",
       "  </tbody>\n",
       "</table>\n",
       "</div>"
      ],
      "text/plain": [
       "           dateCrawled                            name  seller offerType  \\\n",
       "0  2016-03-24 11:52:17                      Golf_3_1.6  privat   Angebot   \n",
       "1  2016-03-24 10:58:45            A5_Sportback_2.7_Tdi  privat   Angebot   \n",
       "2  2016-03-14 12:52:21  Jeep_Grand_Cherokee_\"Overland\"  privat   Angebot   \n",
       "3  2016-03-17 16:54:04              GOLF_4_1_4__3TÜRER  privat   Angebot   \n",
       "4  2016-03-31 17:25:20  Skoda_Fabia_1.4_TDI_PD_Classic  privat   Angebot   \n",
       "\n",
       "   price abtest vehicleType  yearOfRegistration    gearbox  powerPS  model  \\\n",
       "0    480   test         NaN                1993    manuell        0   golf   \n",
       "1  18300   test       coupe                2011    manuell      190    NaN   \n",
       "2   9800   test         suv                2004  automatik      163  grand   \n",
       "3   1500   test  kleinwagen                2001    manuell       75   golf   \n",
       "4   3600   test  kleinwagen                2008    manuell       69  fabia   \n",
       "\n",
       "   kilometer  monthOfRegistration fuelType       brand notRepairedDamage  \\\n",
       "0     150000                    0   benzin  volkswagen               NaN   \n",
       "1     125000                    5   diesel        audi                ja   \n",
       "2     125000                    8   diesel        jeep               NaN   \n",
       "3     150000                    6   benzin  volkswagen              nein   \n",
       "4      90000                    7   diesel       skoda              nein   \n",
       "\n",
       "           dateCreated  nrOfPictures  postalCode             lastSeen  \n",
       "0  2016-03-24 00:00:00             0       70435  2016-04-07 03:16:57  \n",
       "1  2016-03-24 00:00:00             0       66954  2016-04-07 01:46:50  \n",
       "2  2016-03-14 00:00:00             0       90480  2016-04-05 12:47:46  \n",
       "3  2016-03-17 00:00:00             0       91074  2016-03-17 17:40:17  \n",
       "4  2016-03-31 00:00:00             0       60437  2016-04-06 10:17:21  "
      ]
     },
     "execution_count": 15,
     "metadata": {},
     "output_type": "execute_result"
    }
   ],
   "source": [
    "df= pd.read_csv('autos.csv', sep=',', header=0, encoding='cp1252')\n",
    "df.head()"
   ]
  },
  {
   "cell_type": "code",
   "execution_count": 16,
   "metadata": {},
   "outputs": [
    {
     "data": {
      "text/plain": [
       "(371528, 20)"
      ]
     },
     "execution_count": 16,
     "metadata": {},
     "output_type": "execute_result"
    }
   ],
   "source": [
    "# Hoveel rijen bevat de dataset?\n",
    "df.shape\n"
   ]
  },
  {
   "cell_type": "markdown",
   "metadata": {},
   "source": [
    "Verwijder de volgende kolommen: 'dateCrawled', 'offerType', 'seller', 'monthOfRegistration', 'notRepairedDamage', 'nrOfPictures', 'postalCode', 'lastSeen', 'dateCreated'"
   ]
  },
  {
   "cell_type": "code",
   "execution_count": 17,
   "metadata": {},
   "outputs": [],
   "source": [
    "# Verwijderen van de kolom seller\n",
    "df = df.drop(['dateCrawled', 'offerType', 'seller', 'monthOfRegistration', 'notRepairedDamage', 'nrOfPictures', 'postalCode', 'lastSeen', 'dateCreated'],axis=1)"
   ]
  },
  {
   "cell_type": "code",
   "execution_count": 18,
   "metadata": {},
   "outputs": [
    {
     "data": {
      "text/plain": [
       "(371528, 11)"
      ]
     },
     "execution_count": 18,
     "metadata": {},
     "output_type": "execute_result"
    }
   ],
   "source": [
    "df.shape"
   ]
  },
  {
   "cell_type": "markdown",
   "metadata": {},
   "source": [
    "Geef een overzicht van hoeveel ontbrekende waarden er in elke kolom van de dataset voorkomen."
   ]
  },
  {
   "cell_type": "code",
   "execution_count": 19,
   "metadata": {},
   "outputs": [
    {
     "data": {
      "text/plain": [
       "name                      0\n",
       "price                     0\n",
       "abtest                    0\n",
       "vehicleType           37869\n",
       "yearOfRegistration        0\n",
       "gearbox               20209\n",
       "powerPS                   0\n",
       "model                 20484\n",
       "kilometer                 0\n",
       "fuelType              33386\n",
       "brand                     0\n",
       "dtype: int64"
      ]
     },
     "execution_count": 19,
     "metadata": {},
     "output_type": "execute_result"
    }
   ],
   "source": [
    "# Aantal ontbrekende waarden\n",
    "df.isnull().sum()"
   ]
  },
  {
   "cell_type": "markdown",
   "metadata": {},
   "source": [
    "Verwijder alle rijen met ontbrekende waarden (listwise deletion)"
   ]
  },
  {
   "cell_type": "code",
   "execution_count": 20,
   "metadata": {},
   "outputs": [],
   "source": [
    "# Verwijder alle rijen met ontbrekende waarden (listwise deletion)\n",
    "df.dropna(inplace=True)\n"
   ]
  },
  {
   "cell_type": "code",
   "execution_count": 21,
   "metadata": {},
   "outputs": [
    {
     "data": {
      "text/plain": [
       "(299864, 11)"
      ]
     },
     "execution_count": 21,
     "metadata": {},
     "output_type": "execute_result"
    }
   ],
   "source": [
    "df.shape"
   ]
  },
  {
   "cell_type": "code",
   "execution_count": 22,
   "metadata": {},
   "outputs": [
    {
     "data": {
      "text/html": [
       "<div>\n",
       "<style scoped>\n",
       "    .dataframe tbody tr th:only-of-type {\n",
       "        vertical-align: middle;\n",
       "    }\n",
       "\n",
       "    .dataframe tbody tr th {\n",
       "        vertical-align: top;\n",
       "    }\n",
       "\n",
       "    .dataframe thead th {\n",
       "        text-align: right;\n",
       "    }\n",
       "</style>\n",
       "<table border=\"1\" class=\"dataframe\">\n",
       "  <thead>\n",
       "    <tr style=\"text-align: right;\">\n",
       "      <th></th>\n",
       "      <th>price</th>\n",
       "      <th>yearOfRegistration</th>\n",
       "      <th>powerPS</th>\n",
       "      <th>kilometer</th>\n",
       "    </tr>\n",
       "  </thead>\n",
       "  <tbody>\n",
       "    <tr>\n",
       "      <th>count</th>\n",
       "      <td>2.998640e+05</td>\n",
       "      <td>299864.000000</td>\n",
       "      <td>299864.000000</td>\n",
       "      <td>299864.000000</td>\n",
       "    </tr>\n",
       "    <tr>\n",
       "      <th>mean</th>\n",
       "      <td>8.537011e+03</td>\n",
       "      <td>2002.934464</td>\n",
       "      <td>123.536687</td>\n",
       "      <td>125309.406931</td>\n",
       "    </tr>\n",
       "    <tr>\n",
       "      <th>std</th>\n",
       "      <td>4.196486e+05</td>\n",
       "      <td>6.579942</td>\n",
       "      <td>172.038444</td>\n",
       "      <td>39346.956439</td>\n",
       "    </tr>\n",
       "    <tr>\n",
       "      <th>min</th>\n",
       "      <td>0.000000e+00</td>\n",
       "      <td>1910.000000</td>\n",
       "      <td>0.000000</td>\n",
       "      <td>5000.000000</td>\n",
       "    </tr>\n",
       "    <tr>\n",
       "      <th>25%</th>\n",
       "      <td>1.400000e+03</td>\n",
       "      <td>1999.000000</td>\n",
       "      <td>75.000000</td>\n",
       "      <td>100000.000000</td>\n",
       "    </tr>\n",
       "    <tr>\n",
       "      <th>50%</th>\n",
       "      <td>3.500000e+03</td>\n",
       "      <td>2003.000000</td>\n",
       "      <td>114.000000</td>\n",
       "      <td>150000.000000</td>\n",
       "    </tr>\n",
       "    <tr>\n",
       "      <th>75%</th>\n",
       "      <td>7.999000e+03</td>\n",
       "      <td>2007.000000</td>\n",
       "      <td>150.000000</td>\n",
       "      <td>150000.000000</td>\n",
       "    </tr>\n",
       "    <tr>\n",
       "      <th>max</th>\n",
       "      <td>1.000000e+08</td>\n",
       "      <td>2018.000000</td>\n",
       "      <td>20000.000000</td>\n",
       "      <td>150000.000000</td>\n",
       "    </tr>\n",
       "  </tbody>\n",
       "</table>\n",
       "</div>"
      ],
      "text/plain": [
       "              price  yearOfRegistration        powerPS      kilometer\n",
       "count  2.998640e+05       299864.000000  299864.000000  299864.000000\n",
       "mean   8.537011e+03         2002.934464     123.536687  125309.406931\n",
       "std    4.196486e+05            6.579942     172.038444   39346.956439\n",
       "min    0.000000e+00         1910.000000       0.000000    5000.000000\n",
       "25%    1.400000e+03         1999.000000      75.000000  100000.000000\n",
       "50%    3.500000e+03         2003.000000     114.000000  150000.000000\n",
       "75%    7.999000e+03         2007.000000     150.000000  150000.000000\n",
       "max    1.000000e+08         2018.000000   20000.000000  150000.000000"
      ]
     },
     "execution_count": 22,
     "metadata": {},
     "output_type": "execute_result"
    }
   ],
   "source": [
    "df.describe()"
   ]
  },
  {
   "cell_type": "markdown",
   "metadata": {},
   "source": [
    "Verwijder alle rijen waarbij de numerieke waarden gelijk zijn aan 0.\n",
    "Verwijder alle rijen waarbij het aantal pk (powerPS) kleiner is dan 10"
   ]
  },
  {
   "cell_type": "code",
   "execution_count": 23,
   "metadata": {},
   "outputs": [],
   "source": [
    "# Verwijderen van onrealistische waarden\n",
    "df = df[df.price>0]\n",
    "df = df[df.powerPS>0]\n"
   ]
  },
  {
   "cell_type": "code",
   "execution_count": 24,
   "metadata": {},
   "outputs": [
    {
     "data": {
      "text/html": [
       "<div>\n",
       "<style scoped>\n",
       "    .dataframe tbody tr th:only-of-type {\n",
       "        vertical-align: middle;\n",
       "    }\n",
       "\n",
       "    .dataframe tbody tr th {\n",
       "        vertical-align: top;\n",
       "    }\n",
       "\n",
       "    .dataframe thead th {\n",
       "        text-align: right;\n",
       "    }\n",
       "</style>\n",
       "<table border=\"1\" class=\"dataframe\">\n",
       "  <thead>\n",
       "    <tr style=\"text-align: right;\">\n",
       "      <th></th>\n",
       "      <th>price</th>\n",
       "      <th>yearOfRegistration</th>\n",
       "      <th>powerPS</th>\n",
       "      <th>kilometer</th>\n",
       "    </tr>\n",
       "  </thead>\n",
       "  <tbody>\n",
       "    <tr>\n",
       "      <th>count</th>\n",
       "      <td>2.793390e+05</td>\n",
       "      <td>279339.000000</td>\n",
       "      <td>279339.000000</td>\n",
       "      <td>279339.000000</td>\n",
       "    </tr>\n",
       "    <tr>\n",
       "      <th>mean</th>\n",
       "      <td>8.633288e+03</td>\n",
       "      <td>2003.184435</td>\n",
       "      <td>130.701925</td>\n",
       "      <td>124788.464912</td>\n",
       "    </tr>\n",
       "    <tr>\n",
       "      <th>std</th>\n",
       "      <td>3.914672e+05</td>\n",
       "      <td>6.475801</td>\n",
       "      <td>172.613325</td>\n",
       "      <td>39453.217809</td>\n",
       "    </tr>\n",
       "    <tr>\n",
       "      <th>min</th>\n",
       "      <td>1.000000e+00</td>\n",
       "      <td>1910.000000</td>\n",
       "      <td>1.000000</td>\n",
       "      <td>5000.000000</td>\n",
       "    </tr>\n",
       "    <tr>\n",
       "      <th>25%</th>\n",
       "      <td>1.500000e+03</td>\n",
       "      <td>1999.000000</td>\n",
       "      <td>82.000000</td>\n",
       "      <td>100000.000000</td>\n",
       "    </tr>\n",
       "    <tr>\n",
       "      <th>50%</th>\n",
       "      <td>3.750000e+03</td>\n",
       "      <td>2004.000000</td>\n",
       "      <td>116.000000</td>\n",
       "      <td>150000.000000</td>\n",
       "    </tr>\n",
       "    <tr>\n",
       "      <th>75%</th>\n",
       "      <td>8.499000e+03</td>\n",
       "      <td>2008.000000</td>\n",
       "      <td>151.000000</td>\n",
       "      <td>150000.000000</td>\n",
       "    </tr>\n",
       "    <tr>\n",
       "      <th>max</th>\n",
       "      <td>1.000000e+08</td>\n",
       "      <td>2018.000000</td>\n",
       "      <td>20000.000000</td>\n",
       "      <td>150000.000000</td>\n",
       "    </tr>\n",
       "  </tbody>\n",
       "</table>\n",
       "</div>"
      ],
      "text/plain": [
       "              price  yearOfRegistration        powerPS      kilometer\n",
       "count  2.793390e+05       279339.000000  279339.000000  279339.000000\n",
       "mean   8.633288e+03         2003.184435     130.701925  124788.464912\n",
       "std    3.914672e+05            6.475801     172.613325   39453.217809\n",
       "min    1.000000e+00         1910.000000       1.000000    5000.000000\n",
       "25%    1.500000e+03         1999.000000      82.000000  100000.000000\n",
       "50%    3.750000e+03         2004.000000     116.000000  150000.000000\n",
       "75%    8.499000e+03         2008.000000     151.000000  150000.000000\n",
       "max    1.000000e+08         2018.000000   20000.000000  150000.000000"
      ]
     },
     "execution_count": 24,
     "metadata": {},
     "output_type": "execute_result"
    }
   ],
   "source": [
    "df.describe()"
   ]
  },
  {
   "cell_type": "markdown",
   "metadata": {},
   "source": [
    "Verwijder in de kolommen 'price' en powerPS alle uitschieters. Beschouw uitschieters hier als de waarden die meer dan 10 standaardafwijkingen van het gemiddelde zijn gelegen."
   ]
  },
  {
   "cell_type": "code",
   "execution_count": 25,
   "metadata": {},
   "outputs": [
    {
     "name": "stdout",
     "output_type": "stream",
     "text": [
      "391467.1704806122\n",
      "8633.288169571739\n",
      "172.61332514992415\n",
      "130.70192490128483\n"
     ]
    }
   ],
   "source": [
    "# Verwijderen van uitschieters\n",
    "price_std = df['price'].std()\n",
    "price_avg = df['price'].mean()\n",
    "\n",
    "power_std = df['powerPS'].std()\n",
    "power_avg = df['powerPS'].mean()\n",
    "\n",
    "# df = df[(df['price']>(price_avg-10*price_std) & (df['price']<(price_avg+10*price_std)))]\n",
    "# df = df[(df['powerPS']>(power_avg-10*power_std) & (df['powerPS']<(power_avg+10*power_std)))]\n",
    "\n",
    "print(price_std)\n",
    "print(price_avg)\n",
    "print(power_std)\n",
    "print(power_avg)\n"
   ]
  },
  {
   "cell_type": "code",
   "execution_count": 26,
   "metadata": {},
   "outputs": [],
   "source": [
    "df = df[((df['price'])>(price_avg-10*price_std) )]\n",
    "df = df[((df['powerPS'])>(power_avg-10*power_std))]\n",
    "\n",
    "df = df[(df['price'] < (price_avg+10*price_std))]\n",
    "df = df[(df['powerPS'] < (power_avg+10*power_std))]\n"
   ]
  },
  {
   "cell_type": "code",
   "execution_count": 27,
   "metadata": {},
   "outputs": [
    {
     "data": {
      "text/html": [
       "<div>\n",
       "<style scoped>\n",
       "    .dataframe tbody tr th:only-of-type {\n",
       "        vertical-align: middle;\n",
       "    }\n",
       "\n",
       "    .dataframe tbody tr th {\n",
       "        vertical-align: top;\n",
       "    }\n",
       "\n",
       "    .dataframe thead th {\n",
       "        text-align: right;\n",
       "    }\n",
       "</style>\n",
       "<table border=\"1\" class=\"dataframe\">\n",
       "  <thead>\n",
       "    <tr style=\"text-align: right;\">\n",
       "      <th></th>\n",
       "      <th>price</th>\n",
       "      <th>yearOfRegistration</th>\n",
       "      <th>powerPS</th>\n",
       "      <th>kilometer</th>\n",
       "    </tr>\n",
       "  </thead>\n",
       "  <tbody>\n",
       "    <tr>\n",
       "      <th>count</th>\n",
       "      <td>2.792390e+05</td>\n",
       "      <td>279239.000000</td>\n",
       "      <td>279239.000000</td>\n",
       "      <td>279239.000000</td>\n",
       "    </tr>\n",
       "    <tr>\n",
       "      <th>mean</th>\n",
       "      <td>6.626034e+03</td>\n",
       "      <td>2003.185064</td>\n",
       "      <td>128.445317</td>\n",
       "      <td>124791.146652</td>\n",
       "    </tr>\n",
       "    <tr>\n",
       "      <th>std</th>\n",
       "      <td>1.169612e+04</td>\n",
       "      <td>6.475561</td>\n",
       "      <td>66.816918</td>\n",
       "      <td>39448.537191</td>\n",
       "    </tr>\n",
       "    <tr>\n",
       "      <th>min</th>\n",
       "      <td>1.000000e+00</td>\n",
       "      <td>1910.000000</td>\n",
       "      <td>1.000000</td>\n",
       "      <td>5000.000000</td>\n",
       "    </tr>\n",
       "    <tr>\n",
       "      <th>25%</th>\n",
       "      <td>1.500000e+03</td>\n",
       "      <td>1999.000000</td>\n",
       "      <td>82.000000</td>\n",
       "      <td>100000.000000</td>\n",
       "    </tr>\n",
       "    <tr>\n",
       "      <th>50%</th>\n",
       "      <td>3.750000e+03</td>\n",
       "      <td>2004.000000</td>\n",
       "      <td>116.000000</td>\n",
       "      <td>150000.000000</td>\n",
       "    </tr>\n",
       "    <tr>\n",
       "      <th>75%</th>\n",
       "      <td>8.499000e+03</td>\n",
       "      <td>2008.000000</td>\n",
       "      <td>151.000000</td>\n",
       "      <td>150000.000000</td>\n",
       "    </tr>\n",
       "    <tr>\n",
       "      <th>max</th>\n",
       "      <td>1.250000e+06</td>\n",
       "      <td>2018.000000</td>\n",
       "      <td>1800.000000</td>\n",
       "      <td>150000.000000</td>\n",
       "    </tr>\n",
       "  </tbody>\n",
       "</table>\n",
       "</div>"
      ],
      "text/plain": [
       "              price  yearOfRegistration        powerPS      kilometer\n",
       "count  2.792390e+05       279239.000000  279239.000000  279239.000000\n",
       "mean   6.626034e+03         2003.185064     128.445317  124791.146652\n",
       "std    1.169612e+04            6.475561      66.816918   39448.537191\n",
       "min    1.000000e+00         1910.000000       1.000000    5000.000000\n",
       "25%    1.500000e+03         1999.000000      82.000000  100000.000000\n",
       "50%    3.750000e+03         2004.000000     116.000000  150000.000000\n",
       "75%    8.499000e+03         2008.000000     151.000000  150000.000000\n",
       "max    1.250000e+06         2018.000000    1800.000000  150000.000000"
      ]
     },
     "execution_count": 27,
     "metadata": {},
     "output_type": "execute_result"
    }
   ],
   "source": [
    "df.describe()"
   ]
  },
  {
   "cell_type": "markdown",
   "metadata": {},
   "source": [
    "Teken een histogram van de prijs (price). Bepaal op voorhand het aantal klasses en geef dit aantal mee met de bin parameter van de functie sns.distplot()."
   ]
  },
  {
   "cell_type": "code",
   "execution_count": 28,
   "metadata": {},
   "outputs": [],
   "source": [
    "\n",
    "def get_bins(df, kolom):\n",
    "    rang = df[kolom].max()-df[kolom].min()\n",
    "    bins = (rang/(np.sqrt(df[kolom].count())))\n",
    "    bins = np.arange(df[kolom].min(), df[kolom].max(), bins)\n",
    "    return bins\n",
    "\n",
    "\n",
    "def distplot(df, kolom):\n",
    "    bns = get_bins(df, kolom)\n",
    "    sns.distplot(x=df[kolom], bins=bns, kde=False)\n",
    "    plt.title(f'Grafiek van {kolom}')\n"
   ]
  },
  {
   "cell_type": "code",
   "execution_count": 29,
   "metadata": {},
   "outputs": [
    {
     "name": "stderr",
     "output_type": "stream",
     "text": [
      "c:\\Users\\timbl\\AppData\\Local\\Programs\\Python\\Python310\\lib\\site-packages\\seaborn\\distributions.py:2619: FutureWarning: `distplot` is a deprecated function and will be removed in a future version. Please adapt your code to use either `displot` (a figure-level function with similar flexibility) or `histplot` (an axes-level function for histograms).\n",
      "  warnings.warn(msg, FutureWarning)\n"
     ]
    },
    {
     "data": {
      "image/png": "[encoded data removed]",
      "text/plain": [
       "<Figure size 432x288 with 1 Axes>"
      ]
     },
     "metadata": {
      "needs_background": "light"
     },
     "output_type": "display_data"
    }
   ],
   "source": [
    "# Histogram van de prijs\n",
    "distplot(df,'price')\n"
   ]
  },
  {
   "cell_type": "markdown",
   "metadata": {},
   "source": [
    "Stel grafisch de verdeling van 'fuel_Type'weer. Gebruik sns.countplot(). Wat is het populairste brandstoftype?"
   ]
  },
  {
   "cell_type": "code",
   "execution_count": 30,
   "metadata": {},
   "outputs": [
    {
     "data": {
      "text/plain": [
       "<AxesSubplot:xlabel='fuelType', ylabel='count'>"
      ]
     },
     "execution_count": 30,
     "metadata": {},
     "output_type": "execute_result"
    },
    {
     "data": {
      "image/png": "[encoded data removed]",
      "text/plain": [
       "<Figure size 432x288 with 1 Axes>"
      ]
     },
     "metadata": {
      "needs_background": "light"
     },
     "output_type": "display_data"
    }
   ],
   "source": [
    "# Verdeling van fuelType\n",
    "\n",
    "sns.countplot(data=df,x='fuelType')"
   ]
  },
  {
   "cell_type": "markdown",
   "metadata": {},
   "source": [
    "Stel grafisch de verdeling van 'gearbox' weer. Wat is de populairste transmissie?"
   ]
  },
  {
   "cell_type": "code",
   "execution_count": 31,
   "metadata": {},
   "outputs": [
    {
     "data": {
      "text/plain": [
       "<AxesSubplot:xlabel='gearbox', ylabel='count'>"
      ]
     },
     "execution_count": 31,
     "metadata": {},
     "output_type": "execute_result"
    },
    {
     "data": {
      "image/png": "[encoded data removed]",
      "text/plain": [
       "<Figure size 432x288 with 1 Axes>"
      ]
     },
     "metadata": {
      "needs_background": "light"
     },
     "output_type": "display_data"
    }
   ],
   "source": [
    "# Verdeling van gearbox\n",
    "\n",
    "sns.countplot(data=df,x='gearbox')"
   ]
  },
  {
   "cell_type": "markdown",
   "metadata": {},
   "source": [
    "Controleer of auto's met een automatische versnellingbak duurder zijn dan deze met een manuele versnellingsbak. Gebruik hiervoor een boxplot. Wat zijn de conclusies?"
   ]
  },
  {
   "cell_type": "code",
   "execution_count": 34,
   "metadata": {},
   "outputs": [
    {
     "data": {
      "text/plain": [
       "<AxesSubplot:xlabel='price', ylabel='gearbox'>"
      ]
     },
     "execution_count": 34,
     "metadata": {},
     "output_type": "execute_result"
    },
    {
     "data": {
      "image/png": "[encoded data removed]",
      "text/plain": [
       "<Figure size 432x288 with 1 Axes>"
      ]
     },
     "metadata": {
      "needs_background": "light"
     },
     "output_type": "display_data"
    }
   ],
   "source": [
    "# Boxplot van de prijs per type versnellingsbak.\n",
    "\n",
    "sns.boxplot(data=df,x='price',y='gearbox')"
   ]
  },
  {
   "cell_type": "markdown",
   "metadata": {},
   "source": [
    "Wat is het populairste automerk en wat is het populairste model van dat merk?"
   ]
  },
  {
   "cell_type": "code",
   "execution_count": 51,
   "metadata": {},
   "outputs": [
    {
     "name": "stdout",
     "output_type": "stream",
     "text": [
      "Het populairste merk is volkswagen\n",
      "Het populairste model is golf\n"
     ]
    }
   ],
   "source": [
    "# Populairste merk\n",
    "print(f\"Het populairste merk is {df['brand'].value_counts().index[0]}\")\n",
    "\n",
    "# Populairste model\n",
    "df2 = df[df['brand']==\"volkswagen\"]\n",
    "print(f\"Het populairste model is {df2['model'].value_counts().index[0]}\")"
   ]
  },
  {
   "cell_type": "markdown",
   "metadata": {},
   "source": [
    "Voeg een extra kolom toe aan de dataset met daarin de leeftijd van de auto's. Deze leeftijd kan je berekenen als (2018 - yearOfRegistration)"
   ]
  },
  {
   "cell_type": "code",
   "execution_count": 52,
   "metadata": {},
   "outputs": [
    {
     "data": {
      "text/html": [
       "<div>\n",
       "<style scoped>\n",
       "    .dataframe tbody tr th:only-of-type {\n",
       "        vertical-align: middle;\n",
       "    }\n",
       "\n",
       "    .dataframe tbody tr th {\n",
       "        vertical-align: top;\n",
       "    }\n",
       "\n",
       "    .dataframe thead th {\n",
       "        text-align: right;\n",
       "    }\n",
       "</style>\n",
       "<table border=\"1\" class=\"dataframe\">\n",
       "  <thead>\n",
       "    <tr style=\"text-align: right;\">\n",
       "      <th></th>\n",
       "      <th>name</th>\n",
       "      <th>price</th>\n",
       "      <th>abtest</th>\n",
       "      <th>vehicleType</th>\n",
       "      <th>yearOfRegistration</th>\n",
       "      <th>gearbox</th>\n",
       "      <th>powerPS</th>\n",
       "      <th>model</th>\n",
       "      <th>kilometer</th>\n",
       "      <th>fuelType</th>\n",
       "      <th>brand</th>\n",
       "      <th>age</th>\n",
       "    </tr>\n",
       "  </thead>\n",
       "  <tbody>\n",
       "    <tr>\n",
       "      <th>2</th>\n",
       "      <td>Jeep_Grand_Cherokee_\"Overland\"</td>\n",
       "      <td>9800</td>\n",
       "      <td>test</td>\n",
       "      <td>suv</td>\n",
       "      <td>2004</td>\n",
       "      <td>automatik</td>\n",
       "      <td>163</td>\n",
       "      <td>grand</td>\n",
       "      <td>125000</td>\n",
       "      <td>diesel</td>\n",
       "      <td>jeep</td>\n",
       "      <td>14</td>\n",
       "    </tr>\n",
       "    <tr>\n",
       "      <th>3</th>\n",
       "      <td>GOLF_4_1_4__3TÜRER</td>\n",
       "      <td>1500</td>\n",
       "      <td>test</td>\n",
       "      <td>kleinwagen</td>\n",
       "      <td>2001</td>\n",
       "      <td>manuell</td>\n",
       "      <td>75</td>\n",
       "      <td>golf</td>\n",
       "      <td>150000</td>\n",
       "      <td>benzin</td>\n",
       "      <td>volkswagen</td>\n",
       "      <td>17</td>\n",
       "    </tr>\n",
       "    <tr>\n",
       "      <th>4</th>\n",
       "      <td>Skoda_Fabia_1.4_TDI_PD_Classic</td>\n",
       "      <td>3600</td>\n",
       "      <td>test</td>\n",
       "      <td>kleinwagen</td>\n",
       "      <td>2008</td>\n",
       "      <td>manuell</td>\n",
       "      <td>69</td>\n",
       "      <td>fabia</td>\n",
       "      <td>90000</td>\n",
       "      <td>diesel</td>\n",
       "      <td>skoda</td>\n",
       "      <td>10</td>\n",
       "    </tr>\n",
       "    <tr>\n",
       "      <th>5</th>\n",
       "      <td>BMW_316i___e36_Limousine___Bastlerfahrzeug__Ex...</td>\n",
       "      <td>650</td>\n",
       "      <td>test</td>\n",
       "      <td>limousine</td>\n",
       "      <td>1995</td>\n",
       "      <td>manuell</td>\n",
       "      <td>102</td>\n",
       "      <td>3er</td>\n",
       "      <td>150000</td>\n",
       "      <td>benzin</td>\n",
       "      <td>bmw</td>\n",
       "      <td>23</td>\n",
       "    </tr>\n",
       "    <tr>\n",
       "      <th>6</th>\n",
       "      <td>Peugeot_206_CC_110_Platinum</td>\n",
       "      <td>2200</td>\n",
       "      <td>test</td>\n",
       "      <td>cabrio</td>\n",
       "      <td>2004</td>\n",
       "      <td>manuell</td>\n",
       "      <td>109</td>\n",
       "      <td>2_reihe</td>\n",
       "      <td>150000</td>\n",
       "      <td>benzin</td>\n",
       "      <td>peugeot</td>\n",
       "      <td>14</td>\n",
       "    </tr>\n",
       "    <tr>\n",
       "      <th>...</th>\n",
       "      <td>...</td>\n",
       "      <td>...</td>\n",
       "      <td>...</td>\n",
       "      <td>...</td>\n",
       "      <td>...</td>\n",
       "      <td>...</td>\n",
       "      <td>...</td>\n",
       "      <td>...</td>\n",
       "      <td>...</td>\n",
       "      <td>...</td>\n",
       "      <td>...</td>\n",
       "      <td>...</td>\n",
       "    </tr>\n",
       "    <tr>\n",
       "      <th>371520</th>\n",
       "      <td>turbo_defekt</td>\n",
       "      <td>3200</td>\n",
       "      <td>control</td>\n",
       "      <td>limousine</td>\n",
       "      <td>2004</td>\n",
       "      <td>manuell</td>\n",
       "      <td>225</td>\n",
       "      <td>leon</td>\n",
       "      <td>150000</td>\n",
       "      <td>benzin</td>\n",
       "      <td>seat</td>\n",
       "      <td>14</td>\n",
       "    </tr>\n",
       "    <tr>\n",
       "      <th>371524</th>\n",
       "      <td>Smart_smart_leistungssteigerung_100ps</td>\n",
       "      <td>1199</td>\n",
       "      <td>test</td>\n",
       "      <td>cabrio</td>\n",
       "      <td>2000</td>\n",
       "      <td>automatik</td>\n",
       "      <td>101</td>\n",
       "      <td>fortwo</td>\n",
       "      <td>125000</td>\n",
       "      <td>benzin</td>\n",
       "      <td>smart</td>\n",
       "      <td>18</td>\n",
       "    </tr>\n",
       "    <tr>\n",
       "      <th>371525</th>\n",
       "      <td>Volkswagen_Multivan_T4_TDI_7DC_UY2</td>\n",
       "      <td>9200</td>\n",
       "      <td>test</td>\n",
       "      <td>bus</td>\n",
       "      <td>1996</td>\n",
       "      <td>manuell</td>\n",
       "      <td>102</td>\n",
       "      <td>transporter</td>\n",
       "      <td>150000</td>\n",
       "      <td>diesel</td>\n",
       "      <td>volkswagen</td>\n",
       "      <td>22</td>\n",
       "    </tr>\n",
       "    <tr>\n",
       "      <th>371526</th>\n",
       "      <td>VW_Golf_Kombi_1_9l_TDI</td>\n",
       "      <td>3400</td>\n",
       "      <td>test</td>\n",
       "      <td>kombi</td>\n",
       "      <td>2002</td>\n",
       "      <td>manuell</td>\n",
       "      <td>100</td>\n",
       "      <td>golf</td>\n",
       "      <td>150000</td>\n",
       "      <td>diesel</td>\n",
       "      <td>volkswagen</td>\n",
       "      <td>16</td>\n",
       "    </tr>\n",
       "    <tr>\n",
       "      <th>371527</th>\n",
       "      <td>BMW_M135i_vollausgestattet_NP_52.720____Euro</td>\n",
       "      <td>28990</td>\n",
       "      <td>control</td>\n",
       "      <td>limousine</td>\n",
       "      <td>2013</td>\n",
       "      <td>manuell</td>\n",
       "      <td>320</td>\n",
       "      <td>m_reihe</td>\n",
       "      <td>50000</td>\n",
       "      <td>benzin</td>\n",
       "      <td>bmw</td>\n",
       "      <td>5</td>\n",
       "    </tr>\n",
       "  </tbody>\n",
       "</table>\n",
       "<p>279239 rows × 12 columns</p>\n",
       "</div>"
      ],
      "text/plain": [
       "                                                     name  price   abtest  \\\n",
       "2                          Jeep_Grand_Cherokee_\"Overland\"   9800     test   \n",
       "3                                      GOLF_4_1_4__3TÜRER   1500     test   \n",
       "4                          Skoda_Fabia_1.4_TDI_PD_Classic   3600     test   \n",
       "5       BMW_316i___e36_Limousine___Bastlerfahrzeug__Ex...    650     test   \n",
       "6                             Peugeot_206_CC_110_Platinum   2200     test   \n",
       "...                                                   ...    ...      ...   \n",
       "371520                                       turbo_defekt   3200  control   \n",
       "371524              Smart_smart_leistungssteigerung_100ps   1199     test   \n",
       "371525                 Volkswagen_Multivan_T4_TDI_7DC_UY2   9200     test   \n",
       "371526                             VW_Golf_Kombi_1_9l_TDI   3400     test   \n",
       "371527       BMW_M135i_vollausgestattet_NP_52.720____Euro  28990  control   \n",
       "\n",
       "       vehicleType  yearOfRegistration    gearbox  powerPS        model  \\\n",
       "2              suv                2004  automatik      163        grand   \n",
       "3       kleinwagen                2001    manuell       75         golf   \n",
       "4       kleinwagen                2008    manuell       69        fabia   \n",
       "5        limousine                1995    manuell      102          3er   \n",
       "6           cabrio                2004    manuell      109      2_reihe   \n",
       "...            ...                 ...        ...      ...          ...   \n",
       "371520   limousine                2004    manuell      225         leon   \n",
       "371524      cabrio                2000  automatik      101       fortwo   \n",
       "371525         bus                1996    manuell      102  transporter   \n",
       "371526       kombi                2002    manuell      100         golf   \n",
       "371527   limousine                2013    manuell      320      m_reihe   \n",
       "\n",
       "        kilometer fuelType       brand  age  \n",
       "2          125000   diesel        jeep   14  \n",
       "3          150000   benzin  volkswagen   17  \n",
       "4           90000   diesel       skoda   10  \n",
       "5          150000   benzin         bmw   23  \n",
       "6          150000   benzin     peugeot   14  \n",
       "...           ...      ...         ...  ...  \n",
       "371520     150000   benzin        seat   14  \n",
       "371524     125000   benzin       smart   18  \n",
       "371525     150000   diesel  volkswagen   22  \n",
       "371526     150000   diesel  volkswagen   16  \n",
       "371527      50000   benzin         bmw    5  \n",
       "\n",
       "[279239 rows x 12 columns]"
      ]
     },
     "execution_count": 52,
     "metadata": {},
     "output_type": "execute_result"
    }
   ],
   "source": [
    "# Invoegen van de leeftijd\n",
    "df['age'] = (2018 - df['yearOfRegistration'])\n",
    "df"
   ]
  },
  {
   "cell_type": "markdown",
   "metadata": {},
   "source": [
    "Welke variabele lijkt het meeste invloed te hebben op de prijs? De leeftijd of het kilometeraantal?\n",
    "Baseer je op de correlatiecoëfficiënt."
   ]
  },
  {
   "cell_type": "code",
   "execution_count": 54,
   "metadata": {},
   "outputs": [
    {
     "data": {
      "text/plain": [
       "<AxesSubplot:>"
      ]
     },
     "execution_count": 54,
     "metadata": {},
     "output_type": "execute_result"
    },
    {
     "data": {
      "image/png": "[encoded data removed]",
      "text/plain": [
       "<Figure size 720x720 with 2 Axes>"
      ]
     },
     "metadata": {
      "needs_background": "light"
     },
     "output_type": "display_data"
    }
   ],
   "source": [
    "# Correlatie\n",
    "corr = df.corr()\n",
    "plt.figure(figsize=(10,10))\n",
    "sns.heatmap(data=corr,square=True, annot=True)"
   ]
  },
  {
   "cell_type": "markdown",
   "metadata": {},
   "source": [
    "Iemand wil een auto kopen van 2014 of jonger. Deze auto mag maximaal 50000 km op de teller staan hebben. Toon de auto's die aan deze eisen voldoen."
   ]
  },
  {
   "cell_type": "code",
   "execution_count": 55,
   "metadata": {},
   "outputs": [
    {
     "data": {
      "text/html": [
       "<div>\n",
       "<style scoped>\n",
       "    .dataframe tbody tr th:only-of-type {\n",
       "        vertical-align: middle;\n",
       "    }\n",
       "\n",
       "    .dataframe tbody tr th {\n",
       "        vertical-align: top;\n",
       "    }\n",
       "\n",
       "    .dataframe thead th {\n",
       "        text-align: right;\n",
       "    }\n",
       "</style>\n",
       "<table border=\"1\" class=\"dataframe\">\n",
       "  <thead>\n",
       "    <tr style=\"text-align: right;\">\n",
       "      <th></th>\n",
       "      <th>name</th>\n",
       "      <th>price</th>\n",
       "      <th>abtest</th>\n",
       "      <th>vehicleType</th>\n",
       "      <th>yearOfRegistration</th>\n",
       "      <th>gearbox</th>\n",
       "      <th>powerPS</th>\n",
       "      <th>model</th>\n",
       "      <th>kilometer</th>\n",
       "      <th>fuelType</th>\n",
       "      <th>brand</th>\n",
       "      <th>age</th>\n",
       "    </tr>\n",
       "  </thead>\n",
       "  <tbody>\n",
       "    <tr>\n",
       "      <th>8</th>\n",
       "      <td>Ford_C___Max_Titanium_1_0_L_EcoBoost</td>\n",
       "      <td>14500</td>\n",
       "      <td>control</td>\n",
       "      <td>bus</td>\n",
       "      <td>2014</td>\n",
       "      <td>manuell</td>\n",
       "      <td>125</td>\n",
       "      <td>c_max</td>\n",
       "      <td>30000</td>\n",
       "      <td>benzin</td>\n",
       "      <td>ford</td>\n",
       "      <td>4</td>\n",
       "    </tr>\n",
       "    <tr>\n",
       "      <th>56</th>\n",
       "      <td>BMW_435i_Sport_coupe</td>\n",
       "      <td>39600</td>\n",
       "      <td>test</td>\n",
       "      <td>coupe</td>\n",
       "      <td>2014</td>\n",
       "      <td>automatik</td>\n",
       "      <td>306</td>\n",
       "      <td>andere</td>\n",
       "      <td>30000</td>\n",
       "      <td>benzin</td>\n",
       "      <td>bmw</td>\n",
       "      <td>4</td>\n",
       "    </tr>\n",
       "    <tr>\n",
       "      <th>148</th>\n",
       "      <td>Mercedes_Benz_GLK_250_BlueTEC_4Matic_Standhzg_...</td>\n",
       "      <td>41900</td>\n",
       "      <td>control</td>\n",
       "      <td>suv</td>\n",
       "      <td>2014</td>\n",
       "      <td>automatik</td>\n",
       "      <td>204</td>\n",
       "      <td>glk</td>\n",
       "      <td>40000</td>\n",
       "      <td>diesel</td>\n",
       "      <td>mercedes_benz</td>\n",
       "      <td>4</td>\n",
       "    </tr>\n",
       "    <tr>\n",
       "      <th>184</th>\n",
       "      <td>Skoda_Fabia_Combi_1.2_TSI_DSG_Style</td>\n",
       "      <td>16449</td>\n",
       "      <td>control</td>\n",
       "      <td>kombi</td>\n",
       "      <td>2015</td>\n",
       "      <td>automatik</td>\n",
       "      <td>110</td>\n",
       "      <td>fabia</td>\n",
       "      <td>10000</td>\n",
       "      <td>benzin</td>\n",
       "      <td>skoda</td>\n",
       "      <td>3</td>\n",
       "    </tr>\n",
       "    <tr>\n",
       "      <th>275</th>\n",
       "      <td>Audi_A6_3.0_TDI_competition_S_Line_LED_BOSE</td>\n",
       "      <td>56900</td>\n",
       "      <td>control</td>\n",
       "      <td>limousine</td>\n",
       "      <td>2015</td>\n",
       "      <td>automatik</td>\n",
       "      <td>326</td>\n",
       "      <td>a6</td>\n",
       "      <td>5000</td>\n",
       "      <td>diesel</td>\n",
       "      <td>audi</td>\n",
       "      <td>3</td>\n",
       "    </tr>\n",
       "    <tr>\n",
       "      <th>...</th>\n",
       "      <td>...</td>\n",
       "      <td>...</td>\n",
       "      <td>...</td>\n",
       "      <td>...</td>\n",
       "      <td>...</td>\n",
       "      <td>...</td>\n",
       "      <td>...</td>\n",
       "      <td>...</td>\n",
       "      <td>...</td>\n",
       "      <td>...</td>\n",
       "      <td>...</td>\n",
       "      <td>...</td>\n",
       "    </tr>\n",
       "    <tr>\n",
       "      <th>371321</th>\n",
       "      <td>Volkswagen_Touran_1.4_TSI_BlueMotion_Technolog...</td>\n",
       "      <td>28500</td>\n",
       "      <td>test</td>\n",
       "      <td>bus</td>\n",
       "      <td>2016</td>\n",
       "      <td>manuell</td>\n",
       "      <td>150</td>\n",
       "      <td>touran</td>\n",
       "      <td>5000</td>\n",
       "      <td>benzin</td>\n",
       "      <td>volkswagen</td>\n",
       "      <td>2</td>\n",
       "    </tr>\n",
       "    <tr>\n",
       "      <th>371328</th>\n",
       "      <td>Audi_A1_1.4_TFSI_S_tronic</td>\n",
       "      <td>19990</td>\n",
       "      <td>control</td>\n",
       "      <td>kleinwagen</td>\n",
       "      <td>2014</td>\n",
       "      <td>automatik</td>\n",
       "      <td>185</td>\n",
       "      <td>a1</td>\n",
       "      <td>10000</td>\n",
       "      <td>benzin</td>\n",
       "      <td>audi</td>\n",
       "      <td>4</td>\n",
       "    </tr>\n",
       "    <tr>\n",
       "      <th>371334</th>\n",
       "      <td>MINI_Cooper_Cabrio__noch_1_Jahr_Werksgarantie_</td>\n",
       "      <td>23490</td>\n",
       "      <td>test</td>\n",
       "      <td>cabrio</td>\n",
       "      <td>2015</td>\n",
       "      <td>manuell</td>\n",
       "      <td>122</td>\n",
       "      <td>cooper</td>\n",
       "      <td>20000</td>\n",
       "      <td>benzin</td>\n",
       "      <td>mini</td>\n",
       "      <td>3</td>\n",
       "    </tr>\n",
       "    <tr>\n",
       "      <th>371365</th>\n",
       "      <td>Mazda_CX_5_SKYACTIV_D_175_Drive_AWD_Sports_Line</td>\n",
       "      <td>32900</td>\n",
       "      <td>test</td>\n",
       "      <td>suv</td>\n",
       "      <td>2015</td>\n",
       "      <td>automatik</td>\n",
       "      <td>175</td>\n",
       "      <td>cx_reihe</td>\n",
       "      <td>10000</td>\n",
       "      <td>diesel</td>\n",
       "      <td>mazda</td>\n",
       "      <td>3</td>\n",
       "    </tr>\n",
       "    <tr>\n",
       "      <th>371500</th>\n",
       "      <td>Volkswagen_Golf_1.4_TSI_BlueMotion_Technology_...</td>\n",
       "      <td>20400</td>\n",
       "      <td>test</td>\n",
       "      <td>limousine</td>\n",
       "      <td>2014</td>\n",
       "      <td>automatik</td>\n",
       "      <td>150</td>\n",
       "      <td>golf</td>\n",
       "      <td>30000</td>\n",
       "      <td>benzin</td>\n",
       "      <td>volkswagen</td>\n",
       "      <td>4</td>\n",
       "    </tr>\n",
       "  </tbody>\n",
       "</table>\n",
       "<p>6628 rows × 12 columns</p>\n",
       "</div>"
      ],
      "text/plain": [
       "                                                     name  price   abtest  \\\n",
       "8                    Ford_C___Max_Titanium_1_0_L_EcoBoost  14500  control   \n",
       "56                                   BMW_435i_Sport_coupe  39600     test   \n",
       "148     Mercedes_Benz_GLK_250_BlueTEC_4Matic_Standhzg_...  41900  control   \n",
       "184                   Skoda_Fabia_Combi_1.2_TSI_DSG_Style  16449  control   \n",
       "275           Audi_A6_3.0_TDI_competition_S_Line_LED_BOSE  56900  control   \n",
       "...                                                   ...    ...      ...   \n",
       "371321  Volkswagen_Touran_1.4_TSI_BlueMotion_Technolog...  28500     test   \n",
       "371328                          Audi_A1_1.4_TFSI_S_tronic  19990  control   \n",
       "371334     MINI_Cooper_Cabrio__noch_1_Jahr_Werksgarantie_  23490     test   \n",
       "371365    Mazda_CX_5_SKYACTIV_D_175_Drive_AWD_Sports_Line  32900     test   \n",
       "371500  Volkswagen_Golf_1.4_TSI_BlueMotion_Technology_...  20400     test   \n",
       "\n",
       "       vehicleType  yearOfRegistration    gearbox  powerPS     model  \\\n",
       "8              bus                2014    manuell      125     c_max   \n",
       "56           coupe                2014  automatik      306    andere   \n",
       "148            suv                2014  automatik      204       glk   \n",
       "184          kombi                2015  automatik      110     fabia   \n",
       "275      limousine                2015  automatik      326        a6   \n",
       "...            ...                 ...        ...      ...       ...   \n",
       "371321         bus                2016    manuell      150    touran   \n",
       "371328  kleinwagen                2014  automatik      185        a1   \n",
       "371334      cabrio                2015    manuell      122    cooper   \n",
       "371365         suv                2015  automatik      175  cx_reihe   \n",
       "371500   limousine                2014  automatik      150      golf   \n",
       "\n",
       "        kilometer fuelType          brand  age  \n",
       "8           30000   benzin           ford    4  \n",
       "56          30000   benzin            bmw    4  \n",
       "148         40000   diesel  mercedes_benz    4  \n",
       "184         10000   benzin          skoda    3  \n",
       "275          5000   diesel           audi    3  \n",
       "...           ...      ...            ...  ...  \n",
       "371321       5000   benzin     volkswagen    2  \n",
       "371328      10000   benzin           audi    4  \n",
       "371334      20000   benzin           mini    3  \n",
       "371365      10000   diesel          mazda    3  \n",
       "371500      30000   benzin     volkswagen    4  \n",
       "\n",
       "[6628 rows x 12 columns]"
      ]
     },
     "execution_count": 55,
     "metadata": {},
     "output_type": "execute_result"
    }
   ],
   "source": [
    "# auto's van 2014 of jonger en max 50000 km op de teller\n",
    "df4 = df[(df['kilometer']<50000)&(df['yearOfRegistration']>=2014)]\n",
    "df4"
   ]
  },
  {
   "cell_type": "markdown",
   "metadata": {},
   "source": [
    "Maak een nieuw dataframe met volkswagen golf met een leeftijd van 4 jaar\n",
    "\n",
    "Teken op basis van dit dataframe een scatterplot met op de x-as het vermogen van de auto en op de y-as de prijs van de auto.\n",
    "\n",
    "Bepaal vervolgens de regressielijn tussen het vermogen en de prijs.\n",
    "\n",
    "Voorspel wat een volkswagen golf van 4 jaar oud met een vermogen van 120pk naar verwachting zou kosten.\n",
    "\n",
    "Bepaal vervolgens de determinatiecoëfficiënt (R²-waarde) van dit regressiemodel."
   ]
  },
  {
   "cell_type": "code",
   "execution_count": 61,
   "metadata": {},
   "outputs": [],
   "source": [
    "from sklearn.linear_model import LinearRegression\n",
    "\n",
    "def find_regressionline(dataset: pd.DataFrame, x: str, y: str) -> LinearRegression:\n",
    "    onafhankelijke_variabele = dataset[x].values\n",
    "    afhankelijke_variabele = dataset[y].values\n",
    "\n",
    "    regressionline = LinearRegression()\n",
    "    regressionline.fit(onafhankelijke_variabele.reshape(-1,1), afhankelijke_variabele)\n",
    "\n",
    "    return regressionline\n",
    "\n",
    "def find_regressionline_voorwaarde(dataset: pd.DataFrame,xwaarde,ywaarde, x: str, y: str) -> LinearRegression:\n",
    "    onafhankelijke_variabele = dataset[xwaarde][x].values\n",
    "    afhankelijke_variabele = dataset[ywaarde][y].values\n",
    "\n",
    "    regressionline = LinearRegression()\n",
    "    regressionline.fit(onafhankelijke_variabele.reshape(-1,1), afhankelijke_variabele)\n",
    "\n",
    "    return regressionline\n",
    "\n",
    "def plot_regressionline_voorwaarde(dataset: pd.DataFrame,xwaarde,ywaarde, x: str, y:str, regressielijn: LinearRegression, title:str) -> None:\n",
    "    plt.figure()\n",
    "    sns.scatterplot(x=dataset[xwaarde][x], y=dataset[ywaarde][y], data=dataset,color='orange',s=100)\n",
    "    sns.lineplot(dataset[xwaarde][x],regressielijn.predict(dataset[xwaarde][x].values.reshape(-1,1)),color='violet',linewidth=3)\n",
    "    sns.set_style(\"darkgrid\")\n",
    "    plt.title(title)\n",
    "    plt.show()\n",
    "\n",
    "def plot_regressionline(dataset: pd.DataFrame, x: str, y:str, regressielijn: LinearRegression, title:str) -> None:\n",
    "    plt.figure()\n",
    "    sns.scatterplot(x=dataset[x], y=dataset[y], data=dataset,color='orange',s=100)\n",
    "    sns.lineplot(dataset[x],regressielijn.predict(dataset[x].values.reshape(-1,1)),color='violet',linewidth=3)\n",
    "    sns.set_style(\"darkgrid\")\n",
    "    plt.title(title)\n",
    "    plt.show()\n"
   ]
  },
  {
   "cell_type": "code",
   "execution_count": 63,
   "metadata": {},
   "outputs": [
    {
     "name": "stderr",
     "output_type": "stream",
     "text": [
      "c:\\Users\\timbl\\AppData\\Local\\Programs\\Python\\Python310\\lib\\site-packages\\seaborn\\_decorators.py:36: FutureWarning: Pass the following variables as keyword args: x, y. From version 0.12, the only valid positional argument will be `data`, and passing other arguments without an explicit keyword will result in an error or misinterpretation.\n",
      "  warnings.warn(\n"
     ]
    },
    {
     "data": {
      "image/png": "[encoded data removed]",
      "text/plain": [
       "<Figure size 432x288 with 1 Axes>"
      ]
     },
     "metadata": {},
     "output_type": "display_data"
    }
   ],
   "source": [
    "# Nieuw dataframe met volkswagen golf met een leeftijd van 4 jaar\n",
    "df_end = df[(df['brand']=='volkswagen')&(df['model']=='golf')&(df['age']<=4)]\n",
    "\n",
    "# Scatterplot\n",
    "line = find_regressionline(dataset=df_end,x='powerPS',y='price')\n",
    "plot_regressionline(dataset=df_end,x='powerPS',y='price',regressielijn=line,title=\"Test\")\n",
    "\n",
    "\n"
   ]
  },
  {
   "cell_type": "code",
   "execution_count": 67,
   "metadata": {},
   "outputs": [
    {
     "name": "stdout",
     "output_type": "stream",
     "text": [
      "De prijs is:  10116.301197375262\n"
     ]
    },
    {
     "data": {
      "text/plain": [
       "array([10116.30119738])"
      ]
     },
     "execution_count": 67,
     "metadata": {},
     "output_type": "execute_result"
    }
   ],
   "source": [
    "# Voorspel de prijs van een volkswagen golf van 4 jaar oud met 120pk\n",
    "\n",
    "x_value= np.array([[12]])\n",
    "damage = line.predict(x_value)\n",
    "\n",
    "print('De prijs is: ',damage[0])"
   ]
  },
  {
   "cell_type": "code",
   "execution_count": 83,
   "metadata": {},
   "outputs": [
    {
     "name": "stdout",
     "output_type": "stream",
     "text": [
      "0.47765782161790094\n"
     ]
    }
   ],
   "source": [
    "from sklearn.metrics import r2_score\n",
    "l=[]\n",
    "for i in df_end['powerPS']:\n",
    "    i= np.array([[i]])\n",
    "    damage = line.predict(i)\n",
    "    l.append(damage)\n",
    "t = df_end.price.tolist()\n",
    "\n",
    "r2 = r2_score(t, l)\n",
    "print(r2)"
   ]
  }
 ],
 "metadata": {
  "kernelspec": {
   "display_name": "Python 3",
   "language": "python",
   "name": "python3"
  },
  "language_info": {
   "codemirror_mode": {
    "name": "ipython",
    "version": 3
   },
   "file_extension": ".py",
   "mimetype": "text/x-python",
   "name": "python",
   "nbconvert_exporter": "python",
   "pygments_lexer": "ipython3",
   "version": "3.10.5 (tags/v3.10.5:f377153, Jun  6 2022, 16:14:13) [MSC v.1929 64 bit (AMD64)]"
  },
  "vscode": {
   "interpreter": {
    "hash": "db7bdab18830f72cd6d688d7f2301e82730750c9ca48f290108bf87e773bc17a"
   }
  }
 },
 "nbformat": 4,
 "nbformat_minor": 4
}
