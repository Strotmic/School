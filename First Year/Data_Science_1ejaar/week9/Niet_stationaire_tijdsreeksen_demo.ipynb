{
 "cells": [
  {
   "cell_type": "markdown",
   "id": "10f95c71",
   "metadata": {},
   "source": [
    "# <span style=\"color:darkorange\"> Niet stationaire tijdsreeksen demo"
   ]
  },
  {
   "cell_type": "code",
   "execution_count": 1,
   "id": "637c21a6",
   "metadata": {},
   "outputs": [],
   "source": [
    "import pandas as pd\n",
    "import matplotlib.pyplot as plt\n",
    "import seaborn as sns\n",
    "from statsmodels.graphics.tsaplots import plot_acf\n",
    "import numpy as np\n",
    "%matplotlib inline\n",
    "plt.style.use('seaborn')\n",
    "sns.set_style(\"darkgrid\")"
   ]
  },
  {
   "cell_type": "code",
   "execution_count": 2,
   "id": "5fd59437",
   "metadata": {
    "scrolled": true
   },
   "outputs": [
    {
     "data": {
      "text/html": [
       "<div>\n",
       "<style scoped>\n",
       "    .dataframe tbody tr th:only-of-type {\n",
       "        vertical-align: middle;\n",
       "    }\n",
       "\n",
       "    .dataframe tbody tr th {\n",
       "        vertical-align: top;\n",
       "    }\n",
       "\n",
       "    .dataframe thead th {\n",
       "        text-align: right;\n",
       "    }\n",
       "</style>\n",
       "<table border=\"1\" class=\"dataframe\">\n",
       "  <thead>\n",
       "    <tr style=\"text-align: right;\">\n",
       "      <th></th>\n",
       "      <th>Dagelijks aantal bezoekers (in honderden)</th>\n",
       "      <th>Dag van de week</th>\n",
       "    </tr>\n",
       "    <tr>\n",
       "      <th>Tijdstip (dag)</th>\n",
       "      <th></th>\n",
       "      <th></th>\n",
       "    </tr>\n",
       "  </thead>\n",
       "  <tbody>\n",
       "    <tr>\n",
       "      <th>0</th>\n",
       "      <td>21</td>\n",
       "      <td>Maandag</td>\n",
       "    </tr>\n",
       "    <tr>\n",
       "      <th>1</th>\n",
       "      <td>17</td>\n",
       "      <td>Dinsdag</td>\n",
       "    </tr>\n",
       "    <tr>\n",
       "      <th>2</th>\n",
       "      <td>19</td>\n",
       "      <td>Woensdag</td>\n",
       "    </tr>\n",
       "    <tr>\n",
       "      <th>3</th>\n",
       "      <td>20</td>\n",
       "      <td>Donderdag</td>\n",
       "    </tr>\n",
       "    <tr>\n",
       "      <th>4</th>\n",
       "      <td>21</td>\n",
       "      <td>Vrijdag</td>\n",
       "    </tr>\n",
       "  </tbody>\n",
       "</table>\n",
       "</div>"
      ],
      "text/plain": [
       "                Dagelijks aantal bezoekers (in honderden) Dag van de week\n",
       "Tijdstip (dag)                                                           \n",
       "0                                                      21         Maandag\n",
       "1                                                      17         Dinsdag\n",
       "2                                                      19        Woensdag\n",
       "3                                                      20       Donderdag\n",
       "4                                                      21         Vrijdag"
      ]
     },
     "execution_count": 2,
     "metadata": {},
     "output_type": "execute_result"
    }
   ],
   "source": [
    "dataset = pd.read_csv('bezoekers.csv', index_col='Tijdstip (dag)')\n",
    "dataset.head()"
   ]
  },
  {
   "cell_type": "markdown",
   "id": "306461b3",
   "metadata": {},
   "source": [
    "## <span style=\"color:deeppink\"> Stationair? </span>\n",
    "Plot het aantal bezoekers en ga na of de dataset stationair is."
   ]
  },
  {
   "cell_type": "code",
   "execution_count": null,
   "id": "e492f749",
   "metadata": {},
   "outputs": [],
   "source": []
  },
  {
   "cell_type": "code",
   "execution_count": null,
   "id": "2f597ad3",
   "metadata": {},
   "outputs": [],
   "source": []
  },
  {
   "cell_type": "code",
   "execution_count": null,
   "id": "56e1acda",
   "metadata": {},
   "outputs": [],
   "source": []
  },
  {
   "cell_type": "code",
   "execution_count": null,
   "id": "edb3948d",
   "metadata": {},
   "outputs": [],
   "source": []
  },
  {
   "cell_type": "code",
   "execution_count": null,
   "id": "8ee3387c",
   "metadata": {},
   "outputs": [],
   "source": []
  },
  {
   "cell_type": "markdown",
   "id": "15308f42",
   "metadata": {},
   "source": [
    "## <span style=\"color:deeppink\"> Autocorrelatie op de residuen </span>"
   ]
  },
  {
   "cell_type": "code",
   "execution_count": null,
   "id": "4084bd03",
   "metadata": {},
   "outputs": [],
   "source": []
  },
  {
   "cell_type": "markdown",
   "id": "a60f53eb",
   "metadata": {},
   "source": [
    "## <span style=\"color:deeppink\"> Exponentiele demping:\n",
    "Gebruik de functie `emw` om exponentiele demping toe te passen op de residuen:  \n",
    "    https://pandas.pydata.org/pandas-docs/stable/reference/api/pandas.Series.ewm.html"
   ]
  },
  {
   "cell_type": "code",
   "execution_count": null,
   "id": "24d82b7c",
   "metadata": {},
   "outputs": [],
   "source": []
  },
  {
   "cell_type": "code",
   "execution_count": null,
   "id": "3862e4ee",
   "metadata": {},
   "outputs": [],
   "source": []
  },
  {
   "cell_type": "markdown",
   "id": "a88c21e4",
   "metadata": {},
   "source": [
    "## <span style=\"color:deeppink\"> Mean absolute error\n",
    "Bereken de absolute error van de exponentiele demping:"
   ]
  },
  {
   "cell_type": "code",
   "execution_count": null,
   "id": "6c83fdef",
   "metadata": {
    "scrolled": true
   },
   "outputs": [],
   "source": []
  },
  {
   "cell_type": "code",
   "execution_count": null,
   "id": "dcd921b5",
   "metadata": {},
   "outputs": [],
   "source": []
  },
  {
   "cell_type": "markdown",
   "id": "cade4f86",
   "metadata": {},
   "source": [
    "## <span style=\"color:deeppink\"> Voorspelling via exponentiele demping"
   ]
  },
  {
   "cell_type": "code",
   "execution_count": null,
   "id": "047f3446",
   "metadata": {},
   "outputs": [],
   "source": []
  },
  {
   "cell_type": "code",
   "execution_count": null,
   "id": "419b13ee",
   "metadata": {},
   "outputs": [],
   "source": []
  },
  {
   "cell_type": "markdown",
   "id": "577f0291",
   "metadata": {},
   "source": [
    "## <span style=\"color:deeppink\"> Seizoensregressie\n",
    "Eerst gaan we het gemiddelde berekenen volgens de dag van de week.\n",
    "Je kunt dit doen aan de hand van de functie: `dataset.groupby()`  \n",
    "https://pandas.pydata.org/docs/reference/api/pandas.DataFrame.groupby.html"
   ]
  },
  {
   "cell_type": "code",
   "execution_count": null,
   "id": "42adff5d",
   "metadata": {},
   "outputs": [],
   "source": []
  },
  {
   "cell_type": "code",
   "execution_count": null,
   "id": "18108cbe",
   "metadata": {},
   "outputs": [],
   "source": []
  },
  {
   "cell_type": "code",
   "execution_count": null,
   "id": "2b64ebe9",
   "metadata": {},
   "outputs": [],
   "source": []
  },
  {
   "cell_type": "code",
   "execution_count": null,
   "id": "d0d7187b",
   "metadata": {},
   "outputs": [],
   "source": []
  },
  {
   "cell_type": "code",
   "execution_count": null,
   "id": "0098ec4c",
   "metadata": {},
   "outputs": [],
   "source": []
  }
 ],
 "metadata": {
  "kernelspec": {
   "display_name": "Python 3.10.5 64-bit",
   "language": "python",
   "name": "python3"
  },
  "language_info": {
   "codemirror_mode": {
    "name": "ipython",
    "version": 3
   },
   "file_extension": ".py",
   "mimetype": "text/x-python",
   "name": "python",
   "nbconvert_exporter": "python",
   "pygments_lexer": "ipython3",
   "version": "3.10.5 (tags/v3.10.5:f377153, Jun  6 2022, 16:14:13) [MSC v.1929 64 bit (AMD64)]"
  },
  "vscode": {
   "interpreter": {
    "hash": "db7bdab18830f72cd6d688d7f2301e82730750c9ca48f290108bf87e773bc17a"
   }
  }
 },
 "nbformat": 4,
 "nbformat_minor": 5
}
